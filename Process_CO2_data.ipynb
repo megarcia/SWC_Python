{
 "cells": [
  {
   "cell_type": "code",
   "execution_count": null,
   "metadata": {
    "collapsed": true
   },
   "outputs": [],
   "source": [
    "# Jupyter interactive notebook (Python v3.x)\n",
    "#\n",
    "# Download CO2 data from MG's GitHub repository\n",
    "# Perform exloratory data analysis, with commentary\n",
    "#\n",
    "# For use with Software Carpentry Python module\n",
    "#"
   ]
  },
  {
   "cell_type": "code",
   "execution_count": 1,
   "metadata": {
    "collapsed": true
   },
   "outputs": [],
   "source": [
    "# uses the download.py module available in the above repo\n",
    "#\n",
    "import download"
   ]
  },
  {
   "cell_type": "code",
   "execution_count": null,
   "metadata": {
    "collapsed": true
   },
   "outputs": [],
   "source": [
    "base_url = 'https://raw.githubusercontent.com/megarcia/SWC_Python/master/'"
   ]
  },
  {
   "cell_type": "code",
   "execution_count": null,
   "metadata": {
    "collapsed": true
   },
   "outputs": [],
   "source": [
    "file_names = ['MaunaLoa_CO2_monthly_filled_1959-1975.csv',\n",
    "              'MaunaLoa_CO2_monthly_filled_1976-2000.csv',\n",
    "              'MaunaLoa_CO2_monthly_filled_2001-2015.csv']"
   ]
  },
  {
   "cell_type": "code",
   "execution_count": null,
   "metadata": {
    "collapsed": false
   },
   "outputs": [],
   "source": [
    "for fname in file_names:\n",
    "    download.get_file(base_url,fname)"
   ]
  },
  {
   "cell_type": "code",
   "execution_count": null,
   "metadata": {
    "collapsed": true
   },
   "outputs": [],
   "source": [
    "# Get the file names and put them in a list variable\n",
    "#\n",
    "import glob\n",
    "filelist = glob.glob('MaunaLoa_*.csv')"
   ]
  },
  {
   "cell_type": "code",
   "execution_count": null,
   "metadata": {
    "collapsed": false
   },
   "outputs": [],
   "source": [
    "# How many files do we have?\n",
    "#\n",
    "len(filelist)"
   ]
  },
  {
   "cell_type": "code",
   "execution_count": null,
   "metadata": {
    "collapsed": false
   },
   "outputs": [],
   "source": [
    "# Look at the list\n",
    "#\n",
    "filelist"
   ]
  },
  {
   "cell_type": "code",
   "execution_count": null,
   "metadata": {
    "collapsed": true
   },
   "outputs": [],
   "source": [
    "# Note: no alias here, but typically \"import numpy as np\" is used\n",
    "#\n",
    "import numpy"
   ]
  },
  {
   "cell_type": "code",
   "execution_count": null,
   "metadata": {
    "collapsed": true
   },
   "outputs": [],
   "source": [
    "# There are several ways to get CSV data into Python, this is one of the easiest\n",
    "#\n",
    "data1 = numpy.loadtxt(fname=filelist[0],delimiter=',')\n",
    "#\n",
    "# Note that this syntax works for lots of data files\n",
    "#     For space-delimited, use \"delimiter=' '\"\n",
    "#     For tab-delimited, use \"delimiter='\\t'\""
   ]
  },
  {
   "cell_type": "code",
   "execution_count": null,
   "metadata": {
    "collapsed": false
   },
   "outputs": [],
   "source": [
    "# Look at the loaded data\n",
    "#\n",
    "data1"
   ]
  },
  {
   "cell_type": "code",
   "execution_count": null,
   "metadata": {
    "collapsed": false
   },
   "outputs": [],
   "source": [
    "# Get the dimensions of the array, and note that time is axis 0!\n",
    "#\n",
    "numpy.shape(data1)"
   ]
  },
  {
   "cell_type": "code",
   "execution_count": null,
   "metadata": {
    "collapsed": true
   },
   "outputs": [],
   "source": [
    "# Isolate and extract the values of interest\n",
    "#\n",
    "data1_vals = data1[:,2]"
   ]
  },
  {
   "cell_type": "code",
   "execution_count": null,
   "metadata": {
    "collapsed": false
   },
   "outputs": [],
   "source": [
    "# Look at the single-variable time series\n",
    "#\n",
    "data1_vals"
   ]
  },
  {
   "cell_type": "code",
   "execution_count": null,
   "metadata": {
    "collapsed": true
   },
   "outputs": [],
   "source": [
    "# Magic function to show plots here in the notebook, instead of a pop-up window\n",
    "#\n",
    "%matplotlib inline"
   ]
  },
  {
   "cell_type": "code",
   "execution_count": null,
   "metadata": {
    "collapsed": true
   },
   "outputs": [],
   "source": [
    "# Note: no alias here, but typically \"import matplotlib.pyplot as plt\" is used\n",
    "#\n",
    "import matplotlib.pyplot"
   ]
  },
  {
   "cell_type": "code",
   "execution_count": null,
   "metadata": {
    "collapsed": false
   },
   "outputs": [],
   "source": [
    "# Make a simple (exploratory) line plot of our time series\n",
    "#\n",
    "matplotlib.pyplot.figure()\n",
    "matplotlib.pyplot.plot(data1_vals)\n",
    "matplotlib.pyplot.show()\n",
    "#\n",
    "# There are ways to prettify the plot; most are easier when we run a command-line script\n",
    "#     Add axis specs and labels\n",
    "#     Add title and legend\n",
    "#     Make multiple-plot figures\n",
    "#     Add annotations"
   ]
  },
  {
   "cell_type": "code",
   "execution_count": null,
   "metadata": {
    "collapsed": false
   },
   "outputs": [],
   "source": [
    "# OK, that's the first file. How about the rest? One at a time, or loop it?\n",
    "#\n",
    "# Sometimes we have tons of files, so let's make a loop!\n",
    "#\n",
    "# Since we already have the data array from the 1st file in memory, use that to start\n",
    "#\n",
    "all_data = numpy.copy(data1) \n",
    "#\n",
    "# Now loop through the remainder of the files and append them to the existing array\n",
    "for filename in filelist[1:]:\n",
    "    new_data = numpy.loadtxt(fname=filename,delimiter=',')\n",
    "    all_data = numpy.append(all_data,new_data,axis=0)"
   ]
  },
  {
   "cell_type": "code",
   "execution_count": null,
   "metadata": {
    "collapsed": false
   },
   "outputs": [],
   "source": [
    "# Look at the loaded data\n",
    "#\n",
    "all_data"
   ]
  },
  {
   "cell_type": "code",
   "execution_count": null,
   "metadata": {
    "collapsed": false
   },
   "outputs": [],
   "source": [
    "# Get the dimensions of the array\n",
    "#\n",
    "data_shape = numpy.shape(all_data)\n",
    "data_shape"
   ]
  },
  {
   "cell_type": "code",
   "execution_count": null,
   "metadata": {
    "collapsed": false
   },
   "outputs": [],
   "source": [
    "# Recall that the data is monthly, so how many years do we have?\n",
    "#\n",
    "nyears = data_shape[0] / 12\n",
    "nyears"
   ]
  },
  {
   "cell_type": "code",
   "execution_count": null,
   "metadata": {
    "collapsed": true
   },
   "outputs": [],
   "source": [
    "# Isolate and extract the values of interest\n",
    "#\n",
    "CO2_vals = all_data[:,2]"
   ]
  },
  {
   "cell_type": "code",
   "execution_count": null,
   "metadata": {
    "collapsed": false
   },
   "outputs": [],
   "source": [
    "# Look at the single-variable time series\n",
    "#\n",
    "CO2_vals"
   ]
  },
  {
   "cell_type": "code",
   "execution_count": null,
   "metadata": {
    "collapsed": false
   },
   "outputs": [],
   "source": [
    "# Check the dimensions of our variable time series\n",
    "#\n",
    "numpy.shape(CO2_vals)"
   ]
  },
  {
   "cell_type": "code",
   "execution_count": null,
   "metadata": {
    "collapsed": false
   },
   "outputs": [],
   "source": [
    "# The number of items is the number of months in the series\n",
    "#\n",
    "nmonths = numpy.shape(CO2_vals)[0]"
   ]
  },
  {
   "cell_type": "code",
   "execution_count": null,
   "metadata": {
    "collapsed": true
   },
   "outputs": [],
   "source": [
    "# From looking at the full data array, we know that the time series\n",
    "# starts in 1959 and ends at the end of 2015. For plotting, it would \n",
    "# be nice to put those dates on the x-axis. The function to make those\n",
    "# x-axis locations is stored in a variable for passing to the plot.\n",
    "#\n",
    "# Note that the length of this array must match the length of our time \n",
    "# series variable array.\n",
    "#\n",
    "x = numpy.linspace(1959,2016,nmonths)"
   ]
  },
  {
   "cell_type": "code",
   "execution_count": null,
   "metadata": {
    "collapsed": false
   },
   "outputs": [],
   "source": [
    "# Make a slightly less-simple line plot of our time series, now with dates\n",
    "#\n",
    "matplotlib.pyplot.figure()\n",
    "matplotlib.pyplot.plot(x, CO2_vals)\n",
    "matplotlib.pyplot.show()"
   ]
  },
  {
   "cell_type": "code",
   "execution_count": null,
   "metadata": {
    "collapsed": false
   },
   "outputs": [],
   "source": [
    "# This is called the Keeling Curve! \n",
    "#\n",
    "# See http://scrippsco2.ucsd.edu/\n",
    "# and http://en.wikipedia.org/wiki/Keeling_Curve\n",
    "#\n",
    "# There are two things about this plot that we'll explore further:\n",
    "# 1. the seasonal variation\n",
    "# 2. the annual trend\n",
    "#\n",
    "# Instead of finding a new dataset in the right shape, we can use what \n",
    "# we already have and \"reshape\" it. \n",
    "#\n",
    "# We want an array that has each year in a row and each month in a column. \n",
    "# You'll see why in a few more lines.\n",
    "#\n",
    "data_arr = CO2_vals.reshape(nyears,12)"
   ]
  },
  {
   "cell_type": "code",
   "execution_count": null,
   "metadata": {
    "collapsed": false
   },
   "outputs": [],
   "source": [
    "# Check the resulting array shape to see that it's right\n",
    "#\n",
    "numpy.shape(data_arr)"
   ]
  },
  {
   "cell_type": "code",
   "execution_count": null,
   "metadata": {
    "collapsed": true
   },
   "outputs": [],
   "source": [
    "# To look at the seasonal variation, we want the mean values by month\n",
    "# over all years. That means that we're averaging over axis 0.\n",
    "#\n",
    "seasonal = numpy.mean(data_arr, axis=0)"
   ]
  },
  {
   "cell_type": "code",
   "execution_count": null,
   "metadata": {
    "collapsed": false
   },
   "outputs": [],
   "source": [
    "# Look at the result to see that it's what we wanted\n",
    "#\n",
    "seasonal"
   ]
  },
  {
   "cell_type": "code",
   "execution_count": null,
   "metadata": {
    "collapsed": true
   },
   "outputs": [],
   "source": [
    "# Create an array for the months on the x-axis\n",
    "#\n",
    "x = numpy.linspace(1,12,12)"
   ]
  },
  {
   "cell_type": "code",
   "execution_count": null,
   "metadata": {
    "collapsed": false
   },
   "outputs": [],
   "source": [
    "# Make a plot of our monthly averages\n",
    "#\n",
    "matplotlib.pyplot.figure()\n",
    "matplotlib.pyplot.plot(x, seasonal)\n",
    "matplotlib.pyplot.show()"
   ]
  },
  {
   "cell_type": "code",
   "execution_count": null,
   "metadata": {
    "collapsed": true
   },
   "outputs": [],
   "source": [
    "# These plot values include the mean over all of the years. We can subtract \n",
    "# that out to get an idea of the variation within any single year.\n",
    "#\n",
    "mean = numpy.mean(seasonal)"
   ]
  },
  {
   "cell_type": "code",
   "execution_count": null,
   "metadata": {
    "collapsed": true
   },
   "outputs": [],
   "source": [
    "# Basic math operations on arrays proceed element-wise\n",
    "#\n",
    "seasonal_adj = seasonal - mean"
   ]
  },
  {
   "cell_type": "code",
   "execution_count": null,
   "metadata": {
    "collapsed": false
   },
   "outputs": [],
   "source": [
    "# Plot the adjusted values\n",
    "#\n",
    "matplotlib.pyplot.figure()\n",
    "matplotlib.pyplot.plot(x, seasonal_adj)\n",
    "matplotlib.pyplot.show()"
   ]
  },
  {
   "cell_type": "code",
   "execution_count": null,
   "metadata": {
    "collapsed": true
   },
   "outputs": [],
   "source": [
    "# Notice the CO2 concentration decreases between late Spring and early Autumn \n",
    "# (in the Northern Hemisphere). There is more land area in the NH, and all \n",
    "# that plant growth is drawing CO2 from the atmosphere. At other times, plant \n",
    "# respiration, cement production, and fossil fuels cause a net increase in CO2 \n",
    "# concentration.\n",
    "#\n",
    "# The Earth breathes!\n",
    "#\n",
    "# Watch: http://1.bp.blogspot.com/-LemiCA8B_H4/UfLN63QLXdI/AAAAAAAACyM/Xc3HtckubEg/s640/Animated.gif\n",
    "#\n",
    "# To look at the annual variation, we want the mean values over all months\n",
    "# for each year. That means that we can use the same data array, but average \n",
    "# over axis 1 this time.\n",
    "#\n",
    "annual = numpy.mean(data_arr, axis=1)"
   ]
  },
  {
   "cell_type": "code",
   "execution_count": null,
   "metadata": {
    "collapsed": false
   },
   "outputs": [],
   "source": [
    "# Look at the result to see that it's what we wanted\n",
    "#\n",
    "annual"
   ]
  },
  {
   "cell_type": "code",
   "execution_count": null,
   "metadata": {
    "collapsed": true
   },
   "outputs": [],
   "source": [
    "# Create an array for the years on the x-axis\n",
    "#\n",
    "x = numpy.linspace(1959,2015,nyears)"
   ]
  },
  {
   "cell_type": "code",
   "execution_count": null,
   "metadata": {
    "collapsed": false
   },
   "outputs": [],
   "source": [
    "# Plot the annual mean values\n",
    "#\n",
    "matplotlib.pyplot.figure()\n",
    "matplotlib.pyplot.plot(x, annual)\n",
    "matplotlib.pyplot.show()"
   ]
  },
  {
   "cell_type": "code",
   "execution_count": null,
   "metadata": {
    "collapsed": true
   },
   "outputs": [],
   "source": [
    "# Notice there are a couple of times when the trend gets shallow:\n",
    "# early 1970s: Inflation, oil crisis (possibly)\n",
    "# early 1990s: Mount Pinatubo eruption in 1991 (cooler summers, less energy use)\n",
    "#\n",
    "# Notice also the most recent milestone: graph crosses 400 ppm in 2015!\n",
    "#\n",
    "# You've just done some exploratory data analysis!\n",
    "#\n",
    "# You deserve a final treat!\n",
    "#\n",
    "import antigravity"
   ]
  },
  {
   "cell_type": "code",
   "execution_count": null,
   "metadata": {
    "collapsed": true
   },
   "outputs": [],
   "source": []
  }
 ],
 "metadata": {
  "anaconda-cloud": {},
  "kernelspec": {
   "display_name": "Python [conda env:python3]",
   "language": "python",
   "name": "conda-env-python3-py"
  },
  "language_info": {
   "codemirror_mode": {
    "name": "ipython",
    "version": 3
   },
   "file_extension": ".py",
   "mimetype": "text/x-python",
   "name": "python",
   "nbconvert_exporter": "python",
   "pygments_lexer": "ipython3",
   "version": "3.5.2"
  }
 },
 "nbformat": 4,
 "nbformat_minor": 0
}
