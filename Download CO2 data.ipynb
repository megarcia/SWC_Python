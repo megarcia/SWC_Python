{
 "cells": [
  {
   "cell_type": "code",
   "execution_count": null,
   "metadata": {
    "collapsed": true
   },
   "outputs": [],
   "source": [
    "import pycurl"
   ]
  },
  {
   "cell_type": "code",
   "execution_count": null,
   "metadata": {
    "collapsed": true
   },
   "outputs": [],
   "source": [
    "def get_file(url,fname):\n",
    "    print 'Downloading %s' % fname\n",
    "    print 'from %s' % url\n",
    "    c = pycurl.Curl()\n",
    "    f = open(fname, 'wb')\n",
    "    c.setopt(pycurl.SSL_VERIFYPEER, 0)\n",
    "    c.setopt(pycurl.SSL_VERIFYHOST, 0)\n",
    "    c.setopt(c.URL, url)\n",
    "    c.setopt(c.WRITEDATA, f)\n",
    "    c.perform()\n",
    "    responsecode = c.getinfo(c.RESPONSE_CODE)\n",
    "    if responsecode == 200:\n",
    "        print '- Status: OK'\n",
    "        print '- Elapsed time: %f sec' % c.getinfo(c.TOTAL_TIME)\n",
    "    else:\n",
    "        print '- Status: ERROR, response code %d' % responsecode\n",
    "    c.close()\n",
    "    print ' '\n",
    "    return"
   ]
  },
  {
   "cell_type": "code",
   "execution_count": null,
   "metadata": {
    "collapsed": true
   },
   "outputs": [],
   "source": [
    "urls = ['https://raw.githubusercontent.com/megarcia/SWC_Python/master/MaunaLoa_CO2_monthly_filled_1959-1975.csv',\n",
    "        'https://raw.githubusercontent.com/megarcia/SWC_Python/master/MaunaLoa_CO2_monthly_filled_1976-2000.csv',\n",
    "        'https://raw.githubusercontent.com/megarcia/SWC_Python/master/MaunaLoa_CO2_monthly_filled_2001-2015.csv']"
   ]
  },
  {
   "cell_type": "code",
   "execution_count": null,
   "metadata": {
    "collapsed": false
   },
   "outputs": [],
   "source": [
    "for url in urls:\n",
    "    fparts = url.split('/')\n",
    "    fname = fparts[-1]\n",
    "    get_file(url,fname)"
   ]
  },
  {
   "cell_type": "code",
   "execution_count": null,
   "metadata": {
    "collapsed": true
   },
   "outputs": [],
   "source": []
  }
 ],
 "metadata": {
  "kernelspec": {
   "display_name": "Python 2",
   "language": "python",
   "name": "python2"
  },
  "language_info": {
   "codemirror_mode": {
    "name": "ipython",
    "version": 2
   },
   "file_extension": ".py",
   "mimetype": "text/x-python",
   "name": "python",
   "nbconvert_exporter": "python",
   "pygments_lexer": "ipython2",
   "version": "2.7.11"
  }
 },
 "nbformat": 4,
 "nbformat_minor": 0
}
