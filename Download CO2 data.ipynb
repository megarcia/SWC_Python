{
 "cells": [
  {
   "cell_type": "code",
   "execution_count": null,
   "metadata": {
    "collapsed": true
   },
   "outputs": [],
   "source": [
    "# Jupyter interactive notebook (Python v3.x)\n",
    "#\n",
    "# Downloads CO2 data from MG's GitHub repository\n",
    "#\n",
    "# For use with Software Carpentry Python module"
   ]
  },
  {
   "cell_type": "code",
   "execution_count": null,
   "metadata": {
    "collapsed": true
   },
   "outputs": [],
   "source": [
    "import pycurl\n",
    "try:\n",
    "    import certifi\n",
    "    https = 1\n",
    "except ImportError:\n",
    "    https = 0"
   ]
  },
  {
   "cell_type": "code",
   "execution_count": null,
   "metadata": {
    "collapsed": false
   },
   "outputs": [],
   "source": [
    "def get_file(url,fname):\n",
    "    print('Downloading %s' % fname)\n",
    "    print('from %s' % url)\n",
    "    c = pycurl.Curl()\n",
    "    f = open(fname,'wb')\n",
    "    if https:\n",
    "        c.setopt(pycurl.CAINFO, certifi.where())\n",
    "        print('- Using http-secure transfer protocol')\n",
    "    else:\n",
    "        c.setopt(pycurl.SSL_VERIFYPEER, 0)\n",
    "        c.setopt(pycurl.SSL_VERIFYHOST, 0)\n",
    "        print('- Using unsecure http transfer protocol')\n",
    "    c.setopt(c.URL, url)\n",
    "    c.setopt(c.WRITEDATA, f)\n",
    "    c.perform()\n",
    "    responsecode = c.getinfo(c.RESPONSE_CODE)\n",
    "    if responsecode == 200:\n",
    "        print('- Status: OK')\n",
    "        print('- Elapsed time: %f sec' % c.getinfo(c.TOTAL_TIME))\n",
    "    else:\n",
    "        print('- Status: ERROR, response code %d' % responsecode)\n",
    "    c.close()\n",
    "    print(' ')\n",
    "    return"
   ]
  },
  {
   "cell_type": "code",
   "execution_count": null,
   "metadata": {
    "collapsed": true
   },
   "outputs": [],
   "source": [
    "base_url = 'https://raw.githubusercontent.com/megarcia/SWC_Python/master/'"
   ]
  },
  {
   "cell_type": "code",
   "execution_count": null,
   "metadata": {
    "collapsed": true
   },
   "outputs": [],
   "source": [
    "file_names = ['MaunaLoa_CO2_monthly_filled_1959-1975.csv',\n",
    "              'MaunaLoa_CO2_monthly_filled_1976-2000.csv',\n",
    "              'MaunaLoa_CO2_monthly_filled_2001-2015.csv']"
   ]
  },
  {
   "cell_type": "code",
   "execution_count": null,
   "metadata": {
    "collapsed": false
   },
   "outputs": [],
   "source": [
    "for fname in file_names:\n",
    "    url = base_url + fname\n",
    "    get_file(url,fname)"
   ]
  }
 ],
 "metadata": {
  "kernelspec": {
   "display_name": "Python 2",
   "language": "python",
   "name": "python2"
  },
  "language_info": {
   "codemirror_mode": {
    "name": "ipython",
    "version": 2
   },
   "file_extension": ".py",
   "mimetype": "text/x-python",
   "name": "python",
   "nbconvert_exporter": "python",
   "pygments_lexer": "ipython2",
   "version": "2.7.11"
  }
 },
 "nbformat": 4,
 "nbformat_minor": 0
}
